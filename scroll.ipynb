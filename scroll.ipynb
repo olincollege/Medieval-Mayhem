{
  "cells": [
    {
      "cell_type": "code",
      "execution_count": 1,
      "metadata": {},
      "outputs": [
        {
          "name": "stdout",
          "output_type": "stream",
          "text": [
            "pygame 2.3.0 (SDL 2.24.2, Python 3.9.13)\n",
            "Hello from the pygame community. https://www.pygame.org/contribute.html\n"
          ]
        },
        {
          "ename": "FileNotFoundError",
          "evalue": "No file 'background.PNG' found in working directory '/home/mihir17/Platforming-Game-SofDes-Final'.",
          "output_type": "error",
          "traceback": [
            "\u001b[0;31m---------------------------------------------------------------------------\u001b[0m",
            "\u001b[0;31mFileNotFoundError\u001b[0m                         Traceback (most recent call last)",
            "\u001b[0;32m/tmp/ipykernel_2424/2372571399.py\u001b[0m in \u001b[0;36m<module>\u001b[0;34m\u001b[0m\n\u001b[1;32m     15\u001b[0m \u001b[0;34m\u001b[0m\u001b[0m\n\u001b[1;32m     16\u001b[0m \u001b[0;31m# Load background image\u001b[0m\u001b[0;34m\u001b[0m\u001b[0;34m\u001b[0m\u001b[0m\n\u001b[0;32m---> 17\u001b[0;31m \u001b[0mbg\u001b[0m \u001b[0;34m=\u001b[0m \u001b[0mpy\u001b[0m\u001b[0;34m.\u001b[0m\u001b[0mimage\u001b[0m\u001b[0;34m.\u001b[0m\u001b[0mload\u001b[0m\u001b[0;34m(\u001b[0m\u001b[0;34m\"background.PNG\"\u001b[0m\u001b[0;34m)\u001b[0m\u001b[0;34m.\u001b[0m\u001b[0mconvert\u001b[0m\u001b[0;34m(\u001b[0m\u001b[0;34m)\u001b[0m\u001b[0;34m\u001b[0m\u001b[0;34m\u001b[0m\u001b[0m\n\u001b[0m\u001b[1;32m     18\u001b[0m \u001b[0;34m\u001b[0m\u001b[0m\n\u001b[1;32m     19\u001b[0m \u001b[0;31m# Define main variables in scrolling\u001b[0m\u001b[0;34m\u001b[0m\u001b[0;34m\u001b[0m\u001b[0m\n",
            "\u001b[0;31mFileNotFoundError\u001b[0m: No file 'background.PNG' found in working directory '/home/mihir17/Platforming-Game-SofDes-Final'."
          ]
        }
      ],
      "source": [
        "import math\n",
        "import pygame as py\n",
        "import time\n",
        "import os\n",
        "py.init()\n",
        "  \n",
        "clock = py.time.Clock()\n",
        "  \n",
        "FrameHeight = 600\n",
        "FrameWidth = 1200\n",
        "  \n",
        "# Pygame frame window\n",
        "py.display.set_caption(\"Endless Scrolling in pygame\")\n",
        "screen = py.display.set_mode((FrameWidth,\n",
        "                              FrameHeight))\n",
        "  \n",
        "# Load background image\n",
        "bg = py.image.load(os.path.join(\"images\", \"background.PNG\"))\n",
        "  \n",
        "# Define main variables in scrolling\n",
        "scroll = 0\n",
        "  \n",
        "# Fix potential buffering issues\n",
        "tiles = math.ceil(FrameWidth / bg.get_width()) + 1\n",
        "  \n",
        "# Set time to 0\n",
        "t = 0\n",
        "# Run for 60 seconds\n",
        "while t < 60:\n",
        "    # Manage speed of scrolling\n",
        "    clock.tick(33)\n",
        "  \n",
        "    # Append the image to the back of the same image\n",
        "    i = 0\n",
        "    while(i < tiles):\n",
        "        screen.blit(bg, (bg.get_width()*i\n",
        "                         + scroll, 0))\n",
        "        i += 1\n",
        "    # Frame for scrolling\n",
        "    scroll -= 6\n",
        "  \n",
        "    # Reset scroll frame\n",
        "    if abs(scroll) > bg.get_width():\n",
        "        scroll = 0\n",
        "    # Close frame of scrolling\n",
        "    for event in py.event.get():\n",
        "        if event.type == py.QUIT:\n",
        "            quit()\n",
        "  \n",
        "    py.display.update()\n",
        "    time.sleep(0.01)\n",
        "    t += 1\n",
        "  \n",
        "py.quit()"
      ]
    }
  ],
  "metadata": {
    "kernelspec": {
      "display_name": "Python 3 (ipykernel)",
      "language": "python",
      "name": "python3"
    },
    "language_info": {
      "codemirror_mode": {
        "name": "ipython",
        "version": 3
      },
      "file_extension": ".py",
      "mimetype": "text/x-python",
      "name": "python",
      "nbconvert_exporter": "python",
      "pygments_lexer": "ipython3",
      "version": "3.9.13"
    }
  },
  "nbformat": 4,
  "nbformat_minor": 4
}
